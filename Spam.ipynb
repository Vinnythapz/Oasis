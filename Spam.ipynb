{
 "cells": [
  {
   "cell_type": "code",
   "execution_count": null,
   "id": "818b966c-cfd5-42c9-aab9-6672f07cde84",
   "metadata": {},
   "outputs": [],
   "source": [
    "#Import package \n",
    "\n",
    "import pandas as pd \n",
    "import numpy as np \n",
    "from sklearn.model_selection import train_test_split \n",
    "from sklearn.feature_extraction.text import CountVectorizer \n",
    "from sklearn.naive_bayes import MultinomialNB "
   ]
  },
  {
   "cell_type": "code",
   "execution_count": null,
   "id": "6d63e44e-28ab-4b6f-b399-1a59f28c1e2b",
   "metadata": {
    "scrolled": true
   },
   "outputs": [],
   "source": []
  },
  {
   "cell_type": "code",
   "execution_count": null,
   "id": "aa00fa31-4aa4-4bc8-b00c-a256c6c489df",
   "metadata": {},
   "outputs": [],
   "source": [
    "#Import data\n",
    "\n",
    "df = pd.read_csv(\"https://raw.githubusercontent.com/Vinnythapz/Oasis/main/spam.csv\", encoding='latin1')\n",
    "df"
   ]
  },
  {
   "cell_type": "code",
   "execution_count": null,
   "id": "0a3be3d0-b503-4036-897c-210f391b9c19",
   "metadata": {},
   "outputs": [],
   "source": [
    "#inspect data\n",
    "\n",
    "df.columns "
   ]
  },
  {
   "cell_type": "code",
   "execution_count": null,
   "id": "87318f51-4c8d-4d7a-9e0b-88050be516cb",
   "metadata": {},
   "outputs": [],
   "source": []
  },
  {
   "cell_type": "code",
   "execution_count": null,
   "id": "7c953305-f4a6-4b73-9d8b-d872b9826e14",
   "metadata": {},
   "outputs": [],
   "source": [
    "#rename columns\n",
    "\n",
    "df.rename(columns={'v1': 'Category', 'v2': 'Message'}, inplace=True)"
   ]
  },
  {
   "cell_type": "code",
   "execution_count": null,
   "id": "5f0a758d-bfca-4423-acfc-bad133fec952",
   "metadata": {},
   "outputs": [],
   "source": [
    "#inspection \n",
    "\n",
    "df.columns"
   ]
  },
  {
   "cell_type": "code",
   "execution_count": null,
   "id": "d1357cb6-fce5-4be6-b8a2-ed8b8f28d9fb",
   "metadata": {},
   "outputs": [],
   "source": [
    "#inspection \n",
    "\n",
    "df.head"
   ]
  },
  {
   "cell_type": "code",
   "execution_count": null,
   "id": "2004b94d-6689-4f31-87a7-5c38db21f7fd",
   "metadata": {},
   "outputs": [],
   "source": [
    "#turning spam/ham into numerical data and creating a new column called spam \n",
    "\n",
    "df.groupby('Category').describe "
   ]
  },
  {
   "cell_type": "code",
   "execution_count": null,
   "id": "a09c6d6a-cf3b-4a8e-9e5a-8db29599c72b",
   "metadata": {},
   "outputs": [],
   "source": [
    "#inspection \n",
    "\n",
    "df.tail "
   ]
  },
  {
   "cell_type": "code",
   "execution_count": null,
   "id": "35fa8ae2-adb3-4264-b5a4-0384b0f04c14",
   "metadata": {},
   "outputs": [],
   "source": [
    "#inspection \n",
    "\n",
    "df.shape"
   ]
  },
  {
   "cell_type": "code",
   "execution_count": null,
   "id": "9f9eaf9e-3e25-4c3f-ac66-0c6a0578f97f",
   "metadata": {},
   "outputs": [],
   "source": [
    "#inspection \n",
    "df.info"
   ]
  },
  {
   "cell_type": "code",
   "execution_count": null,
   "id": "92be6a90-a0e9-4e78-b194-5d0af92ff06d",
   "metadata": {},
   "outputs": [],
   "source": [
    "#Create train/test split\n",
    "\n",
    "df['spam'] = df['Category'].apply(lambda x:1 if x == 'spam' else 0)"
   ]
  },
  {
   "cell_type": "code",
   "execution_count": null,
   "id": "22b97721-07b4-4d4a-9ff6-457c60c6a521",
   "metadata": {},
   "outputs": [],
   "source": [
    "#inspection \n",
    "\n",
    "print(df) "
   ]
  },
  {
   "cell_type": "code",
   "execution_count": null,
   "id": "73bfbc80-6bba-4d5c-99ed-ab5ef421a213",
   "metadata": {},
   "outputs": [],
   "source": []
  },
  {
   "cell_type": "code",
   "execution_count": null,
   "id": "8eedcd3f-4f7c-4ccc-af5e-4fb52d85a48e",
   "metadata": {},
   "outputs": [],
   "source": [
    "#Create train/test split\n",
    "\n",
    "x_train, x_test, y_train, y_test = train_test_split(df['message'], df['spam'])"
   ]
  },
  {
   "cell_type": "code",
   "execution_count": null,
   "id": "a10c1afe-46c0-4c42-9b41-292655e627ee",
   "metadata": {},
   "outputs": [],
   "source": [
    "#Create train/test split\n",
    "\n",
    "x_train, x_test, y_train, y_test = train_test_split(df['Message'], df['spam'])"
   ]
  },
  {
   "cell_type": "code",
   "execution_count": null,
   "id": "c174364a-3835-4003-a233-f071ca104b13",
   "metadata": {},
   "outputs": [],
   "source": [
    "#inspection \n",
    "\n",
    "x_train "
   ]
  },
  {
   "cell_type": "code",
   "execution_count": null,
   "id": "eccb5a55-3448-4292-a536-2537a6dad54b",
   "metadata": {},
   "outputs": [],
   "source": []
  },
  {
   "cell_type": "code",
   "execution_count": null,
   "id": "26e22b19-c885-4f0f-bf2c-73c8a80a5f4b",
   "metadata": {},
   "outputs": [],
   "source": []
  },
  {
   "cell_type": "code",
   "execution_count": null,
   "id": "d8cb1121-d371-4e54-abe3-ccbbd52d882e",
   "metadata": {},
   "outputs": [],
   "source": [
    "#find word count and store data as a matrix\n",
    "\n",
    "from sklearn.feature_extraction.text import CountVectorizer\n",
    "\n",
    "cv = CountVectorizer()\n",
    "x_train_count = cv.fit_transform(x_train.values)\n",
    "x_train_count"
   ]
  },
  {
   "cell_type": "code",
   "execution_count": null,
   "id": "6142792d-e5f6-448f-a05a-af3d0172a98e",
   "metadata": {},
   "outputs": [],
   "source": [
    "#train model\n",
    "\n",
    "model = MultinomialNB() \n",
    "model.fit(x_train_count, y_train) "
   ]
  },
  {
   "cell_type": "code",
   "execution_count": null,
   "id": "dae48b99-fb5b-467c-b216-d3f6c5af1c03",
   "metadata": {},
   "outputs": [],
   "source": []
  },
  {
   "cell_type": "code",
   "execution_count": null,
   "id": "86342290-cd2f-435c-bbf4-ed363b269a50",
   "metadata": {},
   "outputs": [],
   "source": [
    "#pre-test ham \n",
    "\n",
    "email_ham = [\"come outside\"]\n",
    "email_ham_count = cv.transform(email_ham)\n",
    "model.predict(email_ham_count)"
   ]
  },
  {
   "cell_type": "code",
   "execution_count": null,
   "id": "61c5bddf-c577-4260-8f19-ed5793effc2b",
   "metadata": {},
   "outputs": [],
   "source": [
    "#pre-test spam \n",
    "\n",
    "email_spam = [\"reward money click\"]\n",
    "email_spam_count = cv.transform(email_spam) \n",
    "model.predict(email_spam_count)"
   ]
  },
  {
   "cell_type": "code",
   "execution_count": null,
   "id": "103bc601-3854-49d8-acb5-f3ff01924398",
   "metadata": {},
   "outputs": [],
   "source": [
    "#test model \n",
    "\n",
    "x_test_count = cv.transform(x_test) \n",
    "model.score(x_test_count, y_test) "
   ]
  },
  {
   "cell_type": "code",
   "execution_count": null,
   "id": "0a405bb3-96ff-494c-9a87-8dedca2d1c06",
   "metadata": {},
   "outputs": [],
   "source": []
  }
 ],
 "metadata": {
  "kernelspec": {
   "display_name": "anaconda-ai-2024.04-py310",
   "language": "python",
   "name": "conda-env-anaconda-ai-2024.04-py310-py"
  },
  "language_info": {
   "codemirror_mode": {
    "name": "ipython",
    "version": 3
   },
   "file_extension": ".py",
   "mimetype": "text/x-python",
   "name": "python",
   "nbconvert_exporter": "python",
   "pygments_lexer": "ipython3",
   "version": "3.10.13"
  }
 },
 "nbformat": 4,
 "nbformat_minor": 5
}
